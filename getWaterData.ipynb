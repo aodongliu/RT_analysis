{
 "cells": [
  {
   "cell_type": "code",
   "execution_count": 1,
   "metadata": {},
   "outputs": [],
   "source": [
    "import numpy as np\n",
    "import h5py\n",
    "from numpy.fft import fft, fftfreq, ifft, rfft\n",
    "import matplotlib.pyplot as plt\n",
    "from matplotlib.pyplot import figure"
   ]
  },
  {
   "cell_type": "code",
   "execution_count": 14,
   "metadata": {
    "scrolled": true
   },
   "outputs": [
    {
     "name": "stdout",
     "output_type": "stream",
     "text": [
      "Items in the base directory: \n",
      " [('INTS', <HDF5 group \"/INTS\" (51 members)>), ('SCF', <HDF5 group \"/SCF\" (14 members)>)]\n",
      "\n",
      " Items in INTS:  [('CORE_HAMILTONIAN_SCALAR', <HDF5 dataset \"CORE_HAMILTONIAN_SCALAR\": shape (7, 7), type \"<f8\">), ('ELEC_DIPOLE_LEN_X', <HDF5 dataset \"ELEC_DIPOLE_LEN_X\": shape (7, 7), type \"<f8\">), ('ELEC_DIPOLE_LEN_Y', <HDF5 dataset \"ELEC_DIPOLE_LEN_Y\": shape (7, 7), type \"<f8\">), ('ELEC_DIPOLE_LEN_Z', <HDF5 dataset \"ELEC_DIPOLE_LEN_Z\": shape (7, 7), type \"<f8\">), ('ELEC_DIPOLE_VEL_X', <HDF5 dataset \"ELEC_DIPOLE_VEL_X\": shape (7, 7), type \"<f8\">), ('ELEC_DIPOLE_VEL_Y', <HDF5 dataset \"ELEC_DIPOLE_VEL_Y\": shape (7, 7), type \"<f8\">), ('ELEC_DIPOLE_VEL_Z', <HDF5 dataset \"ELEC_DIPOLE_VEL_Z\": shape (7, 7), type \"<f8\">), ('ELEC_OCTUPOLE_LEN_XXX', <HDF5 dataset \"ELEC_OCTUPOLE_LEN_XXX\": shape (7, 7), type \"<f8\">), ('ELEC_OCTUPOLE_LEN_XXY', <HDF5 dataset \"ELEC_OCTUPOLE_LEN_XXY\": shape (7, 7), type \"<f8\">), ('ELEC_OCTUPOLE_LEN_XXZ', <HDF5 dataset \"ELEC_OCTUPOLE_LEN_XXZ\": shape (7, 7), type \"<f8\">), ('ELEC_OCTUPOLE_LEN_XYY', <HDF5 dataset \"ELEC_OCTUPOLE_LEN_XYY\": shape (7, 7), type \"<f8\">), ('ELEC_OCTUPOLE_LEN_XYZ', <HDF5 dataset \"ELEC_OCTUPOLE_LEN_XYZ\": shape (7, 7), type \"<f8\">), ('ELEC_OCTUPOLE_LEN_XZZ', <HDF5 dataset \"ELEC_OCTUPOLE_LEN_XZZ\": shape (7, 7), type \"<f8\">), ('ELEC_OCTUPOLE_LEN_YYY', <HDF5 dataset \"ELEC_OCTUPOLE_LEN_YYY\": shape (7, 7), type \"<f8\">), ('ELEC_OCTUPOLE_LEN_YYZ', <HDF5 dataset \"ELEC_OCTUPOLE_LEN_YYZ\": shape (7, 7), type \"<f8\">), ('ELEC_OCTUPOLE_LEN_YZZ', <HDF5 dataset \"ELEC_OCTUPOLE_LEN_YZZ\": shape (7, 7), type \"<f8\">), ('ELEC_OCTUPOLE_LEN_ZZZ', <HDF5 dataset \"ELEC_OCTUPOLE_LEN_ZZZ\": shape (7, 7), type \"<f8\">), ('ELEC_OCTUPOLE_VEL_XXX', <HDF5 dataset \"ELEC_OCTUPOLE_VEL_XXX\": shape (7, 7), type \"<f8\">), ('ELEC_OCTUPOLE_VEL_XXY', <HDF5 dataset \"ELEC_OCTUPOLE_VEL_XXY\": shape (7, 7), type \"<f8\">), ('ELEC_OCTUPOLE_VEL_XXZ', <HDF5 dataset \"ELEC_OCTUPOLE_VEL_XXZ\": shape (7, 7), type \"<f8\">), ('ELEC_OCTUPOLE_VEL_XYY', <HDF5 dataset \"ELEC_OCTUPOLE_VEL_XYY\": shape (7, 7), type \"<f8\">), ('ELEC_OCTUPOLE_VEL_XYZ', <HDF5 dataset \"ELEC_OCTUPOLE_VEL_XYZ\": shape (7, 7), type \"<f8\">), ('ELEC_OCTUPOLE_VEL_XZZ', <HDF5 dataset \"ELEC_OCTUPOLE_VEL_XZZ\": shape (7, 7), type \"<f8\">), ('ELEC_OCTUPOLE_VEL_YYY', <HDF5 dataset \"ELEC_OCTUPOLE_VEL_YYY\": shape (7, 7), type \"<f8\">), ('ELEC_OCTUPOLE_VEL_YYZ', <HDF5 dataset \"ELEC_OCTUPOLE_VEL_YYZ\": shape (7, 7), type \"<f8\">), ('ELEC_OCTUPOLE_VEL_YZZ', <HDF5 dataset \"ELEC_OCTUPOLE_VEL_YZZ\": shape (7, 7), type \"<f8\">), ('ELEC_OCTUPOLE_VEL_ZZZ', <HDF5 dataset \"ELEC_OCTUPOLE_VEL_ZZZ\": shape (7, 7), type \"<f8\">), ('ELEC_QUADRUPOLE_LEN_XX', <HDF5 dataset \"ELEC_QUADRUPOLE_LEN_XX\": shape (7, 7), type \"<f8\">), ('ELEC_QUADRUPOLE_LEN_XY', <HDF5 dataset \"ELEC_QUADRUPOLE_LEN_XY\": shape (7, 7), type \"<f8\">), ('ELEC_QUADRUPOLE_LEN_XZ', <HDF5 dataset \"ELEC_QUADRUPOLE_LEN_XZ\": shape (7, 7), type \"<f8\">), ('ELEC_QUADRUPOLE_LEN_YY', <HDF5 dataset \"ELEC_QUADRUPOLE_LEN_YY\": shape (7, 7), type \"<f8\">), ('ELEC_QUADRUPOLE_LEN_YZ', <HDF5 dataset \"ELEC_QUADRUPOLE_LEN_YZ\": shape (7, 7), type \"<f8\">), ('ELEC_QUADRUPOLE_LEN_ZZ', <HDF5 dataset \"ELEC_QUADRUPOLE_LEN_ZZ\": shape (7, 7), type \"<f8\">), ('ELEC_QUADRUPOLE_VEL_XX', <HDF5 dataset \"ELEC_QUADRUPOLE_VEL_XX\": shape (7, 7), type \"<f8\">), ('ELEC_QUADRUPOLE_VEL_XY', <HDF5 dataset \"ELEC_QUADRUPOLE_VEL_XY\": shape (7, 7), type \"<f8\">), ('ELEC_QUADRUPOLE_VEL_XZ', <HDF5 dataset \"ELEC_QUADRUPOLE_VEL_XZ\": shape (7, 7), type \"<f8\">), ('ELEC_QUADRUPOLE_VEL_YY', <HDF5 dataset \"ELEC_QUADRUPOLE_VEL_YY\": shape (7, 7), type \"<f8\">), ('ELEC_QUADRUPOLE_VEL_YZ', <HDF5 dataset \"ELEC_QUADRUPOLE_VEL_YZ\": shape (7, 7), type \"<f8\">), ('ELEC_QUADRUPOLE_VEL_ZZ', <HDF5 dataset \"ELEC_QUADRUPOLE_VEL_ZZ\": shape (7, 7), type \"<f8\">), ('KINETIC', <HDF5 dataset \"KINETIC\": shape (7, 7), type \"<f8\">), ('MAG_DIPOLE_X', <HDF5 dataset \"MAG_DIPOLE_X\": shape (7, 7), type \"<f8\">), ('MAG_DIPOLE_Y', <HDF5 dataset \"MAG_DIPOLE_Y\": shape (7, 7), type \"<f8\">), ('MAG_DIPOLE_Z', <HDF5 dataset \"MAG_DIPOLE_Z\": shape (7, 7), type \"<f8\">), ('MAG_QUADRUPOLE_XX', <HDF5 dataset \"MAG_QUADRUPOLE_XX\": shape (7, 7), type \"<f8\">), ('MAG_QUADRUPOLE_XY', <HDF5 dataset \"MAG_QUADRUPOLE_XY\": shape (7, 7), type \"<f8\">), ('MAG_QUADRUPOLE_XZ', <HDF5 dataset \"MAG_QUADRUPOLE_XZ\": shape (7, 7), type \"<f8\">), ('MAG_QUADRUPOLE_YY', <HDF5 dataset \"MAG_QUADRUPOLE_YY\": shape (7, 7), type \"<f8\">), ('MAG_QUADRUPOLE_YZ', <HDF5 dataset \"MAG_QUADRUPOLE_YZ\": shape (7, 7), type \"<f8\">), ('MAG_QUADRUPOLE_ZZ', <HDF5 dataset \"MAG_QUADRUPOLE_ZZ\": shape (7, 7), type \"<f8\">), ('OVERLAP', <HDF5 dataset \"OVERLAP\": shape (7, 7), type \"<f8\">), ('POTENTIAL', <HDF5 dataset \"POTENTIAL\": shape (7, 7), type \"<f8\">)]\n",
      "\n",
      " Items in SCF:  [('1PDM_ORTHO_SCALAR', <HDF5 dataset \"1PDM_ORTHO_SCALAR\": shape (7, 7), type \"<f8\">), ('1PDM_SCALAR', <HDF5 dataset \"1PDM_SCALAR\": shape (7, 7), type \"<f8\">), ('FIELD_TYPE', <HDF5 dataset \"FIELD_TYPE\": shape (1,), type \"<u8\">), ('FOCK_ORTHO_SCALAR', <HDF5 dataset \"FOCK_ORTHO_SCALAR\": shape (7, 7), type \"<f8\">), ('FOCK_SCALAR', <HDF5 dataset \"FOCK_SCALAR\": shape (7, 7), type \"<f8\">), ('LEN_ELECTRIC_DIPOLE', <HDF5 dataset \"LEN_ELECTRIC_DIPOLE\": shape (3,), type \"<f8\">), ('LEN_ELECTRIC_OCTUPOLE', <HDF5 dataset \"LEN_ELECTRIC_OCTUPOLE\": shape (3, 3, 3), type \"<f8\">), ('LEN_ELECTRIC_QUADRUPOLE', <HDF5 dataset \"LEN_ELECTRIC_QUADRUPOLE\": shape (3, 3), type \"<f8\">), ('MANY_BODY_ENERGY', <HDF5 dataset \"MANY_BODY_ENERGY\": shape (1,), type \"<f8\">), ('MO1', <HDF5 dataset \"MO1\": shape (7, 7), type \"<f8\">), ('ONE_BODY_ENERGY', <HDF5 dataset \"ONE_BODY_ENERGY\": shape (1,), type \"<f8\">), ('S_EXPECT', <HDF5 dataset \"S_EXPECT\": shape (3,), type \"<f8\">), ('S_SQUARED', <HDF5 dataset \"S_SQUARED\": shape (1,), type \"<f8\">), ('TOTAL_ENERGY', <HDF5 dataset \"TOTAL_ENERGY\": shape (1,), type \"<f8\">)]\n"
     ]
    }
   ],
   "source": [
    "# Locate the data stored in the HDF5 groups, and put them into arrays\n",
    "with h5py.File('water_sto3g.bin', 'r') as f_x:\n",
    "    base_items = list(f_x.items())\n",
    "    print('Items in the base directory: \\n', base_items)\n",
    "    INTS = f_x.get('INTS')\n",
    "    INTS_items = list(INTS.items())\n",
    "    print('\\n Items in INTS: ', INTS_items)\n",
    "    dipole_x = np.array(INTS.get('ELEC_DIPOLE_LEN_X')) \n",
    "    dipole_y = np.array(INTS.get('ELEC_DIPOLE_LEN_Y')) \n",
    "    dipole_z = np.array(INTS.get('ELEC_DIPOLE_LEN_Z')) \n",
    "    S = np.array(INTS.get('OVERLAP')) \n",
    "    T = np.array(INTS.get('KINETIC')) \n",
    "    V = np.array(INTS.get('POTENTIAL')) \n",
    "    SCF = f_x.get('SCF')\n",
    "    SCF_items = list(SCF.items())\n",
    "    print('\\n Items in SCF: ', SCF_items)\n",
    "    density = np.array(SCF.get('1PDM_SCALAR')) \n",
    "    \n",
    "    #dipole_x = np.array(RT.get('LEN_ELEC_DIPOLE')) \n",
    "    #time =  np.array(RT.get('TIME')) "
   ]
  },
  {
   "cell_type": "code",
   "execution_count": 16,
   "metadata": {},
   "outputs": [],
   "source": [
    "density\n",
    "np.savetxt('cq_density.dat', density)"
   ]
  },
  {
   "cell_type": "code",
   "execution_count": 13,
   "metadata": {},
   "outputs": [],
   "source": [
    "def writedat(filename, array, precision=16):\n",
    "    with open(filename,'w') as f:\n",
    "        for i in range(len(array)):\n",
    "            for j in range(len(array[i])):\n",
    "                print (\"%.16f    \" % array[i][j], file=f, end = '')\n",
    "            print(\"\\n\")"
   ]
  },
  {
   "cell_type": "code",
   "execution_count": 4,
   "metadata": {},
   "outputs": [],
   "source": [
    "np.savetxt('dipole_x.dat', dipole_x)\n",
    "np.savetxt('dipole_y.dat', dipole_y)\n",
    "np.savetxt('dipole_z.dat', dipole_z)\n",
    "np.savetxt('cq_s.dat', S)\n",
    "np.savetxt('cq_t.dat', T)\n",
    "np.savetxt('cq_v.dat', V)\n",
    "np.savetxt('cq_v.dat', densitysity)"
   ]
  },
  {
   "cell_type": "code",
   "execution_count": 37,
   "metadata": {},
   "outputs": [],
   "source": [
    "density"
   ]
  },
  {
   "cell_type": "code",
   "execution_count": 9,
   "metadata": {},
   "outputs": [
    {
     "data": {
      "text/plain": [
       "7"
      ]
     },
     "execution_count": 9,
     "metadata": {},
     "output_type": "execute_result"
    }
   ],
   "source": [
    "len(dipole_x[1])"
   ]
  },
  {
   "cell_type": "code",
   "execution_count": null,
   "metadata": {},
   "outputs": [],
   "source": []
  }
 ],
 "metadata": {
  "kernelspec": {
   "display_name": "Python 3",
   "language": "python",
   "name": "python3"
  },
  "language_info": {
   "codemirror_mode": {
    "name": "ipython",
    "version": 3
   },
   "file_extension": ".py",
   "mimetype": "text/x-python",
   "name": "python",
   "nbconvert_exporter": "python",
   "pygments_lexer": "ipython3",
   "version": "3.7.4"
  }
 },
 "nbformat": 4,
 "nbformat_minor": 2
}
